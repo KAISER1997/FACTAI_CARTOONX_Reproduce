{
 "cells": [
  {
   "cell_type": "code",
   "execution_count": null,
   "id": "2ae415ab",
   "metadata": {},
   "outputs": [],
   "source": [
    "import argparse\n",
    "import os\n",
    "import sys\n",
    "import yaml\n",
    "from shutil import copyfile\n",
    "from datetime import datetime\n",
    "import cv2\n",
    "import torch\n",
    "import torch.nn as nn\n",
    "from torchvision import transforms\n",
    "import torchvision.models as models\n",
    "from torch.utils.tensorboard import SummaryWriter\n",
    "from visualize_IG import *\n",
    "from utils_IG import *\n",
    "import numpy as np\n",
    "import matplotlib.pyplot as plt\n",
    "from PIL import Image\n",
    "from smooth_grad.gradients import VanillaGrad, SmoothGrad, GuidedBackpropGrad, GuidedBackpropSmoothGrad\n",
    "from smooth_grad.image_utils import preprocess_image, save_as_gray_image\n",
    "from smooth_grad.labels import IMAGENET_LABELS\n",
    "import timm\n",
    "# from GuideBP import Guided_backprop"
   ]
  },
  {
   "cell_type": "code",
   "execution_count": null,
   "id": "8c596755",
   "metadata": {},
   "outputs": [],
   "source": [
    "sys.path.insert(1, os.path.join(sys.path[0], '../'))\n",
    "from project.cartoonX import CartoonX \n",
    "from project.pixelRDE import PixelRDE\n",
    "from utils_IG import calculate_outputs_and_gradients, generate_entrie_images\n",
    "from project.Integrated_grad import random_baseline_integrated_gradients"
   ]
  },
  {
   "cell_type": "code",
   "execution_count": null,
   "id": "3ad122d7",
   "metadata": {},
   "outputs": [],
   "source": [
    "LABEL_LIST = tuple(open(os.path.join(sys.path[0], \"imagenet_labels.txt\")).read().split('\\n'))\n",
    "LABEL_LIST = [x.replace('{',\"\").replace('\\'',\"\").replace(',',\"\").replace('-',\" \").replace('_',\" \") for x in LABEL_LIST]"
   ]
  },
  {
   "cell_type": "code",
   "execution_count": null,
   "id": "efa51ab4",
   "metadata": {},
   "outputs": [],
   "source": [
    "files = os.listdir('random_images/')\n",
    "imgdir='random_images'\n",
    "device = torch.device(\"cuda:0\" if torch.cuda.is_available() else \"cpu\")"
   ]
  },
  {
   "cell_type": "markdown",
   "id": "be48e535",
   "metadata": {},
   "source": [
    "### Uncomment the model You want to use"
   ]
  },
  {
   "cell_type": "code",
   "execution_count": null,
   "id": "6852c680-db24-4363-beba-b0954744b4c0",
   "metadata": {},
   "outputs": [],
   "source": [
    "# Get classifier to explain\n",
    "model = models.mobilenet_v3_small(pretrained=True).eval().to(device)\n",
    "file_name = 'cartoon.npy'\n",
    "\n",
    "# model = models.resnet18(pretrained=True).eval().to(device)\n",
    "# file_name = 'cartoon_resnet18.npy'\n",
    "\n",
    "# model = models.resnet50(pretrained=True).eval().to(device)\n",
    "# file_name = 'cartoon_resnet50.npy'\n",
    "\n",
    "# model = timm.create_model('vit_base_patch16_224', pretrained=True).eval().to(device)\n",
    "# file_name = 'cartoon_vitb16.npy'"
   ]
  },
  {
   "cell_type": "code",
   "execution_count": null,
   "id": "0bb2b55f",
   "metadata": {},
   "outputs": [],
   "source": [
    "with open(os.path.join(sys.path[0], \"hparams.yaml\")) as f:\n",
    "    HPARAMS_CARTOONX = yaml.load(f, Loader=yaml.FullLoader)[\"CartoonX\"]\n",
    "\n",
    "with open(os.path.join(sys.path[0], \"hparams.yaml\")) as f:\n",
    "    HPARAMS_PIXEL_RDE = yaml.load(f, Loader=yaml.FullLoader)[\"PixelRDE\"]\n",
    "\n",
    "# Initialize wavelet RDE and pixel RDE\n",
    "cartoonX = CartoonX(model=model, device=device, **HPARAMS_CARTOONX)\n",
    "pixelRDE = PixelRDE(model=model, device=device, **HPARAMS_PIXEL_RDE)\n"
   ]
  },
  {
   "cell_type": "code",
   "execution_count": null,
   "id": "66a435fb",
   "metadata": {},
   "outputs": [],
   "source": [
    "def k_largest_index_argsort(a, k):\n",
    "    idx = np.argsort(a.ravel())[:-k-1:-1]\n",
    "    return np.column_stack(np.unravel_index(idx, a.shape))\n",
    "\n",
    "def createmaskedimage(img,grad,percent,noise):\n",
    "    #grad:L X B\n",
    "    num_pixels=int(grad.shape[0]*grad.shape[1]*percent)\n",
    "    mask=np.zeros((grad.shape[0],grad.shape[1]))\n",
    "    topk_idx=k_largest_index_argsort(grad,num_pixels)\n",
    "    mask[topk_idx[:,0],topk_idx[:,1]]=1\n",
    "    mask=torch.tensor(mask).unsqueeze(0).unsqueeze(0).to(device)#1 X 1 X L X B\n",
    "    noise=torch.randn(img.shape)\n",
    "    new_img=img*mask+torch.clip(noise.to(device)*(1-mask),0,1)\n",
    "    return(mask,new_img)\n",
    "\n",
    "def save_as_gray_image(img, filename, percentile=99):#smoothgrad\n",
    "    img_2d = np.sum(img, axis=0)\n",
    "    span = abs(np.percentile(img_2d, percentile))\n",
    "    vmin = -span\n",
    "    vmax = span\n",
    "    img_2d = np.clip((img_2d - vmin) / (vmax - vmin), -1, 1)\n",
    "    cv2.imwrite(filename, img_2d * 255)"
   ]
  },
  {
   "cell_type": "code",
   "execution_count": null,
   "id": "a64980af",
   "metadata": {},
   "outputs": [],
   "source": [
    "# percent_list=[0,0.1,0.2,0.3,0.4,0.5,0.6,0.7,0.8,0.9,1]\n",
    "percent_list=list(np.array(list(range(0,101)))/100)\n",
    "full_array=torch.zeros((len(files),len(percent_list)))\n",
    "full_array_smooth=torch.zeros((len(files),len(percent_list)))\n",
    "full_array_cartoon=torch.zeros((len(files),len(percent_list)))\n",
    "full_array_randomwavelet=torch.zeros((len(files),len(percent_list)))"
   ]
  },
  {
   "cell_type": "code",
   "execution_count": null,
   "id": "c82415d2",
   "metadata": {},
   "outputs": [],
   "source": [
    "def marker(mask,percent):\n",
    "    if percent==0:\n",
    "        return 99999999\n",
    "    elif percent==1:\n",
    "        return -9999999\n",
    "    mask_open=[mask[0].reshape(-1)]\n",
    "    for i in range(len(mask[1])):\n",
    "        mask_open.append(mask[1][i].reshape(-1))\n",
    "    final_mask_open=torch.cat(mask_open,0).detach().cpu().numpy()\n",
    "    final_mask_open=final_mask_open.reshape(-1,1) # 60000 X 1\n",
    "    noise_symmet=torch.randn(final_mask_open.shape).numpy()*0.000000001\n",
    "    topk_idx=k_largest_index_argsort(noise_symmet+final_mask_open,int(final_mask_open.shape[0]*percent))\n",
    "    return(final_mask_open[topk_idx[-1][0],topk_idx[-1][1]])\n",
    "\n",
    "def createmaskedwavelt(wavelet,grad_mask,mark):\n",
    "    noise=(torch.randn(wavelet.shape).to(device)*(torch.std(wavelet)).to(device))+torch.mean(wavelet).to(device)\n",
    "    new_wavelet=wavelet*(grad_mask>=mark)+noise.to(device)*((grad_mask<mark))\n",
    "    return(mask,new_wavelet.float())\n",
    "\n"
   ]
  },
  {
   "cell_type": "code",
   "execution_count": null,
   "id": "59f5ed9b",
   "metadata": {
    "tags": []
   },
   "outputs": [],
   "source": [
    "# Cartoon\n",
    "for i,fname in enumerate(files):\n",
    "    print(f\"Processing file: {fname}\")\n",
    "    x = Image.open(os.path.join(imgdir, fname))\n",
    "    x = transforms.ToTensor()(x)\n",
    "    # x = transforms.Resize(size=(256,256))(x)\n",
    "    x = transforms.Resize(size=(224,224))(x)\n",
    "    x = x.to(device).unsqueeze(0)\n",
    "    input_img=x.detach()\n",
    "    # classifiy image\n",
    "    output = model(x)\n",
    "    pred = nn.Softmax(dim=1)(output).max(1)[1].item()\n",
    "\n",
    "    # set CartoonX hyperparameters\n",
    "    HPARAMS ={\"wave\": \"db3\", \"mode\": \"zero\", \"J\": 5,\n",
    "              \"l1lambda\": 10, \"step_size\": 1e-3,\n",
    "              \"num_steps\": 100,  \"batch_size\": 16,\n",
    "              \"distortion_measure\": \"label\"} \n",
    "\n",
    "    # get Cartoon RDE \n",
    "    cartoonX = CartoonX(model=model, device=device,return_mask=True, **HPARAMS)\n",
    "    explanation,mask = cartoonX(x, pred)\n",
    "    \n",
    "    with torch.no_grad():\n",
    "        for j,percent in enumerate(percent_list):\n",
    "            yl, yh = cartoonX.forward_dwt(x) \n",
    "            markz=marker(mask,percent)\n",
    "            _,obf_yl = createmaskedwavelt(yl,mask[0],markz)\n",
    "            obf_yh = []\n",
    "            for count, y in enumerate(yh):\n",
    "                obf_yh.append(createmaskedwavelt(yh[count],mask[1][count],markz)[1])\n",
    "            z = cartoonX.inverse_dwt((obf_yl,obf_yh))\n",
    "            masked_img = z.clamp(0,1) \n",
    "            full_array_cartoon[i,j]=((F.softmax(model(input_img))-F.softmax(model(masked_img.float())))**2).sum()\n",
    "    "
   ]
  },
  {
   "cell_type": "code",
   "execution_count": 5,
   "id": "9c55fe07",
   "metadata": {},
   "outputs": [
    {
     "data": {
      "text/plain": [
       "[<matplotlib.lines.Line2D at 0x2a39dbeda90>]"
      ]
     },
     "execution_count": 5,
     "metadata": {},
     "output_type": "execute_result"
    },
    {
     "data": {
      "image/png": "[encoded data removed]",
      "text/plain": [
       "<Figure size 432x288 with 1 Axes>"
      ]
     },
     "metadata": {
      "needs_background": "light"
     },
     "output_type": "display_data"
    }
   ],
   "source": [
    "plt.plot(full_array_cartoon.mean(0))"
   ]
  },
  {
   "cell_type": "code",
   "execution_count": null,
   "id": "d7382a84",
   "metadata": {},
   "outputs": [],
   "source": [
    "np.save(file_name, full_array_cartoon)"
   ]
  },
  {
   "cell_type": "code",
   "execution_count": 4,
   "id": "8e09b35f",
   "metadata": {},
   "outputs": [
    {
     "data": {
      "image/png": "[encoded data removed]",
      "text/plain": [
       "<Figure size 432x288 with 1 Axes>"
      ]
     },
     "metadata": {
      "needs_background": "light"
     },
     "output_type": "display_data"
    }
   ],
   "source": [
    "# Plot all figures\n",
    "xxx=np.load('cartoon.npy')\n",
    "plt.plot(xxx.mean(0), label='MobileNetV3')\n",
    "\n",
    "xxx=np.load('cartoon_resnet18.npy')\n",
    "plt.plot(xxx.mean(0), label='ResNet-18')\n",
    "\n",
    "xxx=np.load('cartoon_resnet50.npy')\n",
    "plt.plot(xxx.mean(0), label='ResNet-50')\n",
    "\n",
    "xxx=np.load('cartoon_vitb16.npy')\n",
    "plt.plot(xxx.mean(0), label='ViT-B/16')\n",
    "\n",
    "plt.xlabel('Non-randomized relevant components')\n",
    "plt.ylabel('Distortion')\n",
    "plt.legend()\n",
    "plt.savefig('archs.png')"
   ]
  }
 ],
 "metadata": {
  "kernelspec": {
   "display_name": "Python 3 (ipykernel)",
   "language": "python",
   "name": "python3"
  },
  "language_info": {
   "codemirror_mode": {
    "name": "ipython",
    "version": 3
   },
   "file_extension": ".py",
   "mimetype": "text/x-python",
   "name": "python",
   "nbconvert_exporter": "python",
   "pygments_lexer": "ipython3",
   "version": "3.9.12"
  }
 },
 "nbformat": 4,
 "nbformat_minor": 5
}
